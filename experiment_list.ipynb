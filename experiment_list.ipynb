{
 "metadata": {
  "language_info": {
   "codemirror_mode": {
    "name": "ipython",
    "version": 3
   },
   "file_extension": ".py",
   "mimetype": "text/x-python",
   "name": "python",
   "nbconvert_exporter": "python",
   "pygments_lexer": "ipython3",
   "version": "3.6.12-final"
  },
  "orig_nbformat": 2,
  "kernelspec": {
   "name": "python3",
   "display_name": "Python 3.6.12 64-bit ('EDSR': conda)",
   "metadata": {
    "interpreter": {
     "hash": "89974c479d593ecc6eb6236a5bcf718d242cd598a97a9d82fc04ce3a1bfe50d2"
    }
   }
  }
 },
 "nbformat": 4,
 "nbformat_minor": 2,
 "cells": [
  {
   "cell_type": "code",
   "execution_count": 9,
   "metadata": {},
   "outputs": [],
   "source": [
    "import torch\n",
    "from pprint import pprint\n",
    "\n",
    "def find_value(log, max=True):\n",
    "    if max:\n",
    "        return torch.max(log).item()\n",
    "    else: # min\n",
    "        return torch.min(log).item()"
   ]
  },
  {
   "cell_type": "code",
   "execution_count": 18,
   "metadata": {},
   "outputs": [
    {
     "output_type": "stream",
     "name": "stdout",
     "text": [
      "[('RDN_x2_B_G064_b8_lr1e-5_baseline', 34.68545913696289),\n ('RDN_x2_B_G064_b8_lr1e-5_p0.000001', 34.72112274169922),\n ('RDN_x2_B_G064_b8_lr1e-5_p0.00001', 34.71708297729492),\n ('RDN_x2_B_G064_b8_lr1e-5_p0.0001', 34.71718978881836),\n ('RDN_x2_B_G064_b8_lr1e-5_p0.001', 34.72703170776367),\n ('RDN_x2_B_G064_b8_lr1e-5_p0.01', 34.73179626464844),\n ('RDN_x2_B_G064_b8_lr1e-5_p0.1', 34.76676559448242),\n ('RDN_x3_B_G064_b8_lr1e-5_p0.000001', 30.735034942626953),\n ('RDN_x3_B_G064_b8_lr1e-5_p0.00001', 30.738367080688477),\n ('RDN_x3_B_G064_b8_lr1e-5_p0.0001', 30.743778228759766),\n ('RDN_x3_B_G064_b8_lr1e-5_p0.001', 30.74068260192871),\n ('RDN_x3_B_G064_b8_lr1e-5_p0.01', 30.7745418548584),\n ('RDN_x3_B_G064_b8_lr1e-5_p0.1', 30.784137725830078),\n ('RDN_x4_B_G064_b8_lr1e-5_p0.000001', 28.629348754882812),\n ('RDN_x4_B_G064_b8_lr1e-5_p0.00001', 28.637344360351562),\n ('RDN_x4_B_G064_b8_lr1e-5_p0.0001', 28.636465072631836),\n ('edsr_x2_r24_f224_lr1e-5_p0.1_new', 34.683074951171875),\n ('edsr_x3_r24_f224_lr1e-5_p0.1_new', 30.753768920898438),\n ('edsr_x4_r24_f224_lr1e-5_p0.1_new', 28.68855857849121)]\n"
     ]
    }
   ],
   "source": [
    "experiment_dir = \"/home/shizun/experiment/\"\n",
    "dirs = os.listdir(experiment_dir)\n",
    "\n",
    "exp_max_list = []\n",
    "for dir in dirs:\n",
    "    e_dir = os.path.join(experiment_dir, dir)\n",
    "    log_file = os.path.join(e_dir, \"psnr_log.pt\")\n",
    "    if not os.path.exists(log_file): continue\n",
    "    log = torch.load(log_file)\n",
    "    max = find_value(log, max=True)\n",
    "    exp_max_list.append((dir.split(\"_\", 1)[1], max))\n",
    "    # print(\"{} {:.2f}\".format(dir.ljust(70, \" \"), max))\n",
    "exp_max_list.sort(key = lambda a:a[0])\n",
    "pprint(exp_max_list)"
   ]
  },
  {
   "cell_type": "code",
   "execution_count": null,
   "metadata": {},
   "outputs": [],
   "source": []
  }
 ]
}