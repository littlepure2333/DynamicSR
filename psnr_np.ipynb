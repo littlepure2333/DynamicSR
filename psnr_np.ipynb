{
 "metadata": {
  "language_info": {
   "codemirror_mode": {
    "name": "ipython",
    "version": 3
   },
   "file_extension": ".py",
   "mimetype": "text/x-python",
   "name": "python",
   "nbconvert_exporter": "python",
   "pygments_lexer": "ipython3",
   "version": "3.6.12-final"
  },
  "orig_nbformat": 2,
  "kernelspec": {
   "name": "python361264bitedsrconda3cb88119c5024b5c8884e78487d9b0e7",
   "display_name": "Python 3.6.12 64-bit ('EDSR': conda)",
   "language": "python"
  }
 },
 "nbformat": 4,
 "nbformat_minor": 2,
 "cells": [
  {
   "cell_type": "code",
   "execution_count": 1,
   "metadata": {},
   "outputs": [],
   "source": [
    "import numpy as np\n",
    "import pickle\n",
    "from tqdm import tqdm\n",
    "\n",
    "def is_bin_file(filename, scale):\n",
    "    return any(filename.endswith(ext) for ext in ['x{}_std2_ycbcr_p192.pt'.format(scale)])"
   ]
  },
  {
   "cell_type": "code",
   "execution_count": 3,
   "metadata": {},
   "outputs": [
    {
     "output_type": "stream",
     "name": "stdout",
     "text": [
      "number of files: 810\n",
      "100%|██████████| 810/810 [23:04<00:00,  1.71s/it]\n"
     ]
    }
   ],
   "source": [
    "scale = 2\n",
    "lr_dir = '/data/shizun/dataset/DIV2K/bin/DIV2K_train_LR_bicubic/X{}/'.format(scale)\n",
    "all_files = os.listdir(lr_dir)\n",
    "files = []\n",
    "for f in all_files:\n",
    "    if is_bin_file(f,scale):\n",
    "        files.append(f)\n",
    "files.sort()\n",
    "print('number of files:', len(files), flush=True)\n",
    "for file in tqdm(files):\n",
    "# for i, file in enumerate(files):\n",
    "    # print(\"[{}/{}] processing [{}]...\".format(i, len(files), file))\n",
    "    psnr_file = os.path.join(lr_dir, file)\n",
    "    with open(psnr_file, 'rb') as _f:\n",
    "        index_psnr = pickle.load(_f) # (N,3)\n",
    "\n",
    "    index_psnr = np.array(index_psnr)\n",
    "\n",
    "    np_file = psnr_file.replace(\".pt\",\"_np.pt\")\n",
    "    with open(np_file, 'wb') as _f:\n",
    "        pickle.dump(index_psnr, _f)"
   ]
  },
  {
   "cell_type": "code",
   "execution_count": null,
   "metadata": {},
   "outputs": [],
   "source": []
  }
 ]
}