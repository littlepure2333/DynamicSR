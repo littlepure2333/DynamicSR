{
 "metadata": {
  "language_info": {
   "codemirror_mode": {
    "name": "ipython",
    "version": 3
   },
   "file_extension": ".py",
   "mimetype": "text/x-python",
   "name": "python",
   "nbconvert_exporter": "python",
   "pygments_lexer": "ipython3",
   "version": "3.6.12-final"
  },
  "orig_nbformat": 2,
  "kernelspec": {
   "name": "python3",
   "display_name": "Python 3.6.12 64-bit ('EDSR': conda)",
   "metadata": {
    "interpreter": {
     "hash": "e51c469d5546774f1b599e91960140a0399f718a336f10203e90d635e6da7749"
    }
   }
  }
 },
 "nbformat": 4,
 "nbformat_minor": 2,
 "cells": [
  {
   "cell_type": "code",
   "execution_count": 2,
   "metadata": {},
   "outputs": [],
   "source": [
    "import torch\n",
    "import os\n",
    "\n",
    "def log2tb(log_dir, log):\n",
    "    from tensorboardX import SummaryWriter\n",
    "    writer = SummaryWriter(log_dir)\n",
    "\n",
    "    for epoch in range(log.shape[0]):\n",
    "        value = log[epoch][0][0].item()\n",
    "        writer.add_scalar('psnr',value,epoch)\n",
    "\n",
    "    writer.close()\n",
    "    print(log_dir)\n",
    "\n",
    "# dir = \"/home/shizun/experiment/20201122_edsr_x2_r24_f224_lr1e-5_p0.05/psnr_log.pt\"\n",
    "\n",
    "# log = torch.load(dir)\n",
    "\n",
    "# log.shape"
   ]
  },
  {
   "cell_type": "code",
   "execution_count": 3,
   "metadata": {},
   "outputs": [],
   "source": [
    "def path_filter(path):\n",
    "    files = os.listdir(path)\n",
    "    for file in files:\n",
    "        if file.find(\"events.out.tfevents\") >= 0:\n",
    "            return False\n",
    "    \n",
    "    log_file = os.path.join(path, \"psnr_log.pt\")\n",
    "    if os.path.exists(log_file):\n",
    "        return True\n",
    "    else:\n",
    "        return False"
   ]
  },
  {
   "cell_type": "code",
   "execution_count": 4,
   "metadata": {},
   "outputs": [
    {
     "output_type": "stream",
     "name": "stdout",
     "text": [
      "/home/shizun/experiment/20210115_rcan_x3_g6_r20_f64_lr1e-5_p0.0001\n",
      "/home/shizun/experiment/20210115_rcan_x4_g6_r20_f64_lr1e-5_baseline\n",
      "/home/shizun/experiment/20210115_rcan_x3_g6_r20_f64_lr1e-5_p0.001\n",
      "/home/shizun/experiment/20210115_rcan_x3_g6_r20_f64_lr1e-5_p0.000001\n",
      "/home/shizun/experiment/20210115_rcan_x3_g6_r20_f64_lr1e-5_baseline\n",
      "/home/shizun/experiment/20210115_rcan_x4_g6_r20_f64_lr1e-5_p0.001\n",
      "/home/shizun/experiment/20210115_rcan_x4_g6_r20_f64_lr1e-5_p0.0001\n"
     ]
    }
   ],
   "source": [
    "experiment_dir = \"/home/shizun/experiment/\"\n",
    "dirs = os.listdir(experiment_dir)\n",
    "\n",
    "for dir in dirs:\n",
    "    # log_file = os.path.join(experiment_dir,dir,\"psnr_log.pt\")\n",
    "    e_dir = os.path.join(experiment_dir, dir)\n",
    "    if path_filter(e_dir):\n",
    "        # print(e_dir)\n",
    "        log_file = os.path.join(e_dir, \"psnr_log.pt\")\n",
    "        log = torch.load(log_file)\n",
    "        log2tb(e_dir, log)"
   ]
  },
  {
   "cell_type": "code",
   "execution_count": 6,
   "metadata": {},
   "outputs": [],
   "source": [
    "import torch\n",
    "\n",
    "def name_filter(path, contain, exclusive=None):\n",
    "    if path.find(contain) >= 0:\n",
    "        if path.find(exclusive) < 0:\n",
    "            return True\n",
    "        else:\n",
    "            return False\n",
    "    else:\n",
    "        return False\n",
    "\n",
    "def find_value(log, max=True):\n",
    "    if max:\n",
    "        return torch.max(log)\n",
    "    else: # min\n",
    "        return torch.min(log)"
   ]
  },
  {
   "cell_type": "code",
   "execution_count": 8,
   "metadata": {},
   "outputs": [
    {
     "output_type": "stream",
     "name": "stdout",
     "text": [
      "20210114_rcan_x4_g6_r20_f64_lr1e-5_p0.01                               28.51\n20210115_rcan_x4_g6_r20_f64_lr1e-5_baseline                            28.29\n20210114_rcan_x4_g6_r20_f64_lr1e-5_p0.1                                28.49\n20210115_rcan_x4_g6_r20_f64_lr1e-5_p0.001                              28.51\n20210115_rcan_x4_g6_r20_f64_lr1e-5_p0.0001                             28.51\n"
     ]
    }
   ],
   "source": [
    "experiment_dir = \"/home/shizun/experiment/\"\n",
    "dirs = os.listdir(experiment_dir)\n",
    "name = \"rcan_x4\"\n",
    "\n",
    "for dir in dirs:\n",
    "    e_dir = os.path.join(experiment_dir, dir)\n",
    "    if name_filter(e_dir, contain=name, exclusive=\"debug\"):\n",
    "        log_file = os.path.join(e_dir, \"psnr_log.pt\")\n",
    "        log = torch.load(log_file)\n",
    "        max = find_value(log, max=True)\n",
    "        print(\"{} {:.2f}\".format(dir.ljust(70, \" \"), max))"
   ]
  },
  {
   "cell_type": "code",
   "execution_count": null,
   "metadata": {},
   "outputs": [],
   "source": []
  }
 ]
}