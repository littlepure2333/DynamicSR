{
 "metadata": {
  "language_info": {
   "codemirror_mode": {
    "name": "ipython",
    "version": 3
   },
   "file_extension": ".py",
   "mimetype": "text/x-python",
   "name": "python",
   "nbconvert_exporter": "python",
   "pygments_lexer": "ipython3",
   "version": "3.6.12-final"
  },
  "orig_nbformat": 2,
  "kernelspec": {
   "name": "python3",
   "display_name": "Python 3"
  }
 },
 "nbformat": 4,
 "nbformat_minor": 2,
 "cells": [
  {
   "cell_type": "code",
   "execution_count": 6,
   "metadata": {},
   "outputs": [],
   "source": [
    "import os\n",
    "import math\n",
    "import numpy as np\n",
    "import pickle\n",
    "import imageio\n",
    "import torch"
   ]
  },
  {
   "cell_type": "code",
   "execution_count": 3,
   "metadata": {},
   "outputs": [
    {
     "output_type": "stream",
     "name": "stdout",
     "text": [
      "(1020, 678, 3)\ntorch.Size([1020, 678, 3])\ntorch.Size([3, 1020, 678])\n"
     ]
    }
   ],
   "source": [
    "lr_file = \"/data/sda/shizun/dataset/DIV2K/bin/DIV2K_train_LR_bicubic/X2/0278x2.pt\"\n",
    "with open(lr_file, 'rb') as _f:\n",
    "    lr = pickle.load(_f) # (W,H,3)\n",
    "    print(lr.shape)\n",
    "    lr = torch.from_numpy(lr)      # (H,W,3)\n",
    "    print(lr.shape)\n",
    "    lr = lr.permute(2,0,1).float() # (3,H,W)\n",
    "    print(lr.shape)"
   ]
  },
  {
   "cell_type": "code",
   "execution_count": 5,
   "metadata": {},
   "outputs": [
    {
     "output_type": "stream",
     "name": "stdout",
     "text": [
      "(2040, 1356, 3)\ntorch.Size([2040, 1356, 3])\ntorch.Size([3, 2040, 1356])\n"
     ]
    }
   ],
   "source": [
    "lr_file = \"/data/sda/shizun/dataset/DIV2K/bin/DIV2K_train_HR/0278.pt\"\n",
    "with open(lr_file, 'rb') as _f:\n",
    "    lr = pickle.load(_f)\n",
    "    print(lr.shape)\n",
    "    lr = torch.from_numpy(lr)      # (H,W,3)\n",
    "    print(lr.shape)\n",
    "    lr = lr.permute(2,0,1).float() # (3,H,W)\n",
    "    print(lr.shape)"
   ]
  },
  {
   "cell_type": "code",
   "execution_count": 14,
   "metadata": {},
   "outputs": [
    {
     "output_type": "execute_result",
     "data": {
      "text/plain": [
       "array([[ 0,  1,  2,  3,  4],\n",
       "       [ 5,  6,  7,  8,  9],\n",
       "       [10, 11, 12, 13, 14],\n",
       "       [15, 16, 17, 18, 19],\n",
       "       [20, 21, 22, 23, 24],\n",
       "       [25, 26, 27, 28, 29],\n",
       "       [30, 31, 32, 33, 34],\n",
       "       [35, 36, 37, 38, 39],\n",
       "       [40, 41, 42, 43, 44],\n",
       "       [45, 46, 47, 48, 49],\n",
       "       [50, 51, 52, 53, 54],\n",
       "       [55, 56, 57, 58, 59],\n",
       "       [60, 61, 62, 63, 64],\n",
       "       [65, 66, 67, 68, 69],\n",
       "       [70, 71, 72, 73, 74],\n",
       "       [75, 76, 77, 78, 79],\n",
       "       [80, 81, 82, 83, 84],\n",
       "       [85, 86, 87, 88, 89],\n",
       "       [90, 91, 92, 93, 94],\n",
       "       [95, 96, 97, 98, 99]])"
      ]
     },
     "metadata": {},
     "execution_count": 14
    }
   ],
   "source": [
    "a = np.arange(0,100).reshape(20,-1)\n",
    "a"
   ]
  },
  {
   "cell_type": "code",
   "execution_count": 17,
   "metadata": {},
   "outputs": [
    {
     "output_type": "execute_result",
     "data": {
      "text/plain": [
       "array([[10, 11],\n",
       "       [15, 16]])"
      ]
     },
     "metadata": {},
     "execution_count": 17
    }
   ],
   "source": [
    "a[2:4,0:2]"
   ]
  },
  {
   "cell_type": "code",
   "execution_count": 2,
   "metadata": {},
   "outputs": [
    {
     "output_type": "execute_result",
     "data": {
      "text/plain": [
       "2"
      ]
     },
     "metadata": {},
     "execution_count": 2
    }
   ],
   "source": [
    "scale = 2\n",
    "multi = True\n",
    "p = scale if multi else 1\n",
    "p"
   ]
  },
  {
   "cell_type": "code",
   "execution_count": 4,
   "metadata": {},
   "outputs": [
    {
     "output_type": "execute_result",
     "data": {
      "text/plain": [
       "96"
      ]
     },
     "metadata": {},
     "execution_count": 4
    }
   ],
   "source": [
    "192//2"
   ]
  },
  {
   "cell_type": "code",
   "execution_count": 9,
   "metadata": {},
   "outputs": [
    {
     "output_type": "stream",
     "name": "stdout",
     "text": [
      "(539275, 3)\n"
     ]
    }
   ],
   "source": [
    "file = \"/data/sda/shizun/dataset/DIV2K/bin/DIV2K_train_LR_bicubic/X2/0008x2_psnr.pt\"\n",
    "with open(file, 'rb') as _f:\n",
    "    psnr_index = pickle.load(_f)\n",
    "    psnr_index = np.array(psnr_index)\n",
    "    print(psnr_index.shape)"
   ]
  },
  {
   "cell_type": "code",
   "execution_count": 15,
   "metadata": {},
   "outputs": [
    {
     "output_type": "execute_result",
     "data": {
      "text/plain": [
       "539275"
      ]
     },
     "metadata": {},
     "execution_count": 15
    }
   ],
   "source": [
    "len(psnr_index)"
   ]
  }
 ]
}