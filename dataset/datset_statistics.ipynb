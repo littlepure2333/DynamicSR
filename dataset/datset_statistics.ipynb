{
 "cells": [
  {
   "cell_type": "code",
   "execution_count": 12,
   "source": [
    "from matplotlib import pyplot as plt \n",
    "import numpy as np\n",
    "import pickle\n",
    "\n",
    "\n",
    "f = \"/data/shizun/DIV2K/bin/DIV2K_train_LR_bicubic/X4/statistics_Canny_p192_s24.pt\"\n",
    "with open(f, 'rb') as _f:\n",
    "    all_id_iy_ix_metric = pickle.load(_f) # [iy, ix, metric]\n",
    "metric = all_id_iy_ix_metric[:,-1]\n",
    "print(metric.max())"
   ],
   "outputs": [
    {
     "output_type": "stream",
     "name": "stdout",
     "text": [
      "288405\n"
     ]
    }
   ],
   "metadata": {}
  },
  {
   "cell_type": "code",
   "execution_count": 13,
   "source": [
    "# a = np.array([22,87,5,43,56,73,55,54,11,20,51,5,79,31,27]) \n",
    "# plt.hist(a) \n",
    "plt.hist(metric, bins=320) \n",
    "plt.title(\"histogram\") \n",
    "plt.xlabel('metric')\n",
    "plt.ylabel('frequency')\n",
    "# plt.show()\n",
    "plt.savefig(\"histogram.png\",dpi=300)"
   ],
   "outputs": [
    {
     "output_type": "display_data",
     "data": {
      "text/plain": [
       "<Figure size 432x288 with 1 Axes>"
      ],
      "image/png": "[encoded data removed]"
     },
     "metadata": {
      "needs_background": "light"
     }
    }
   ],
   "metadata": {}
  },
  {
   "cell_type": "code",
   "execution_count": null,
   "source": [],
   "outputs": [],
   "metadata": {}
  }
 ],
 "metadata": {
  "orig_nbformat": 4,
  "language_info": {
   "name": "python",
   "version": "3.7.10",
   "mimetype": "text/x-python",
   "codemirror_mode": {
    "name": "ipython",
    "version": 3
   },
   "pygments_lexer": "ipython3",
   "nbconvert_exporter": "python",
   "file_extension": ".py"
  },
  "kernelspec": {
   "name": "python3",
   "display_name": "Python 3.7.10 64-bit ('edsr': conda)"
  },
  "interpreter": {
   "hash": "9e6921e5089f242ed2896104f58ed00da571ce6153d4b78755b3647fde4c8530"
  }
 },
 "nbformat": 4,
 "nbformat_minor": 2
}