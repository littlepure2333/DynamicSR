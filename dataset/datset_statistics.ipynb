{
 "cells": [
  {
   "cell_type": "code",
   "execution_count": 1,
   "source": [
    "from matplotlib import pyplot as plt \n",
    "import numpy as np\n",
    "import pickle\n",
    "from pprint import pprint\n",
    "\n",
    "f = \"/data/shizun/DIV2K/bin/DIV2K_train_LR_bicubic/X2/statistics_Canny_p192_s24.pt\"\n",
    "with open(f, 'rb') as _f:\n",
    "    all_id_iy_ix_metric = pickle.load(_f) # [iy, ix, metric]\n",
    "metric = all_id_iy_ix_metric[:,-1]\n",
    "metric = metric[metric>0]\n",
    "\n",
    "hist, bin_edges = np.histogram(metric, bins=320)\n",
    "pprint(hist)\n",
    "pprint(bin_edges)"
   ],
   "outputs": [
    {
     "output_type": "stream",
     "name": "stdout",
     "text": [
      "array([10106,  7282,  6306,  5574,  5028,  5725,  5477,  5212,  4784,\n",
      "        4654,  4675,  4704,  4582,  4434,  4674,  4216,  4066,  4193,\n",
      "        4058,  4036,  4057,  3968,  4000,  4147,  4039,  4087,  4043,\n",
      "        4123,  4161,  4285,  4040,  4030,  3974,  4031,  4077,  4027,\n",
      "        4048,  4045,  3951,  3974,  3984,  4011,  4127,  4301,  3983,\n",
      "        4112,  4091,  4021,  4114,  4097,  4093,  4029,  4057,  4080,\n",
      "        4086,  4170,  4156,  4221,  4389,  3970,  4053,  3972,  4025,\n",
      "        4103,  4060,  4101,  4163,  4109,  4223,  4161,  4129,  4114,\n",
      "        4360,  4017,  4029,  4123,  4101,  4084,  4150,  4114,  4102,\n",
      "        3956,  4081,  4022,  4188,  4212,  4053,  4335,  3993,  4156,\n",
      "        4004,  4089,  4033,  3953,  4084,  3951,  3991,  3926,  4097,\n",
      "        3890,  3988,  4141,  3907,  3873,  3830,  3909,  3952,  3871,\n",
      "        3892,  3829,  3818,  3894,  3915,  3810,  3832,  3855,  4095,\n",
      "        3818,  3779,  3698,  3762,  3699,  3593,  3671,  3686,  3674,\n",
      "        3627,  3684,  3463,  3501,  3622,  3443,  3392,  3246,  3202,\n",
      "        3265,  3235,  3090,  3156,  3060,  3136,  3033,  2969,  2941,\n",
      "        2911,  3006,  2843,  2725,  2704,  2701,  2613,  2590,  2515,\n",
      "        2580,  2464,  2452,  2366,  2304,  2357,  2319,  2466,  2261,\n",
      "        2277,  2172,  2103,  2173,  2116,  1975,  2024,  2010,  2033,\n",
      "        2015,  1990,  1955,  1991,  1907,  1787,  1762,  1719,  1756,\n",
      "        1744,  1610,  1568,  1499,  1568,  1530,  1392,  1378,  1363,\n",
      "        1466,  1227,  1210,  1227,  1246,  1167,  1064,  1090,  1020,\n",
      "         963,  1054,   897,   920,   879,   899,   820,   777,   747,\n",
      "         690,   693,   695,   622,   577,   594,   500,   458,   373,\n",
      "         320,   272,   210,   133,   111,    90,    94,    74,    32,\n",
      "          28,    28,    25,    27,    17,    23,    19,    23,    19,\n",
      "          15,    21,    20,    13,    26,    17,    27,    16,    18,\n",
      "          15,     8,     9,     7,     7,     4,     3,     3,     8,\n",
      "           2,     2,     6,     0,     2,     6,     2,     3,     4,\n",
      "           3,     1,     6,     5,     3,     1,     1,     2,     0,\n",
      "           4,     1,     0,     0,     1,     0,     0,     0,     0,\n",
      "           0,     0,     0,     0,     0,     0,     1,     1,     0,\n",
      "           1,     1,     0,     0,     0,     0,     0,     0,     0,\n",
      "           0,     1,     1,     0,     0,     0,     0,     1,     2,\n",
      "           1,     0,     0,     0,     0,     1,     0,     0,     0,\n",
      "           1,     1,     1,     0,     3])\n",
      "array([2.55000000e+02, 4.35253125e+03, 8.45006250e+03, 1.25475938e+04,\n",
      "       1.66451250e+04, 2.07426562e+04, 2.48401875e+04, 2.89377188e+04,\n",
      "       3.30352500e+04, 3.71327812e+04, 4.12303125e+04, 4.53278438e+04,\n",
      "       4.94253750e+04, 5.35229062e+04, 5.76204375e+04, 6.17179688e+04,\n",
      "       6.58155000e+04, 6.99130312e+04, 7.40105625e+04, 7.81080938e+04,\n",
      "       8.22056250e+04, 8.63031562e+04, 9.04006875e+04, 9.44982188e+04,\n",
      "       9.85957500e+04, 1.02693281e+05, 1.06790812e+05, 1.10888344e+05,\n",
      "       1.14985875e+05, 1.19083406e+05, 1.23180938e+05, 1.27278469e+05,\n",
      "       1.31376000e+05, 1.35473531e+05, 1.39571062e+05, 1.43668594e+05,\n",
      "       1.47766125e+05, 1.51863656e+05, 1.55961188e+05, 1.60058719e+05,\n",
      "       1.64156250e+05, 1.68253781e+05, 1.72351312e+05, 1.76448844e+05,\n",
      "       1.80546375e+05, 1.84643906e+05, 1.88741438e+05, 1.92838969e+05,\n",
      "       1.96936500e+05, 2.01034031e+05, 2.05131562e+05, 2.09229094e+05,\n",
      "       2.13326625e+05, 2.17424156e+05, 2.21521688e+05, 2.25619219e+05,\n",
      "       2.29716750e+05, 2.33814281e+05, 2.37911812e+05, 2.42009344e+05,\n",
      "       2.46106875e+05, 2.50204406e+05, 2.54301938e+05, 2.58399469e+05,\n",
      "       2.62497000e+05, 2.66594531e+05, 2.70692062e+05, 2.74789594e+05,\n",
      "       2.78887125e+05, 2.82984656e+05, 2.87082188e+05, 2.91179719e+05,\n",
      "       2.95277250e+05, 2.99374781e+05, 3.03472312e+05, 3.07569844e+05,\n",
      "       3.11667375e+05, 3.15764906e+05, 3.19862438e+05, 3.23959969e+05,\n",
      "       3.28057500e+05, 3.32155031e+05, 3.36252562e+05, 3.40350094e+05,\n",
      "       3.44447625e+05, 3.48545156e+05, 3.52642688e+05, 3.56740219e+05,\n",
      "       3.60837750e+05, 3.64935281e+05, 3.69032812e+05, 3.73130344e+05,\n",
      "       3.77227875e+05, 3.81325406e+05, 3.85422938e+05, 3.89520469e+05,\n",
      "       3.93618000e+05, 3.97715531e+05, 4.01813062e+05, 4.05910594e+05,\n",
      "       4.10008125e+05, 4.14105656e+05, 4.18203188e+05, 4.22300719e+05,\n",
      "       4.26398250e+05, 4.30495781e+05, 4.34593312e+05, 4.38690844e+05,\n",
      "       4.42788375e+05, 4.46885906e+05, 4.50983438e+05, 4.55080969e+05,\n",
      "       4.59178500e+05, 4.63276031e+05, 4.67373562e+05, 4.71471094e+05,\n",
      "       4.75568625e+05, 4.79666156e+05, 4.83763688e+05, 4.87861219e+05,\n",
      "       4.91958750e+05, 4.96056281e+05, 5.00153812e+05, 5.04251344e+05,\n",
      "       5.08348875e+05, 5.12446406e+05, 5.16543938e+05, 5.20641469e+05,\n",
      "       5.24739000e+05, 5.28836531e+05, 5.32934062e+05, 5.37031594e+05,\n",
      "       5.41129125e+05, 5.45226656e+05, 5.49324188e+05, 5.53421719e+05,\n",
      "       5.57519250e+05, 5.61616781e+05, 5.65714312e+05, 5.69811844e+05,\n",
      "       5.73909375e+05, 5.78006906e+05, 5.82104438e+05, 5.86201969e+05,\n",
      "       5.90299500e+05, 5.94397031e+05, 5.98494562e+05, 6.02592094e+05,\n",
      "       6.06689625e+05, 6.10787156e+05, 6.14884688e+05, 6.18982219e+05,\n",
      "       6.23079750e+05, 6.27177281e+05, 6.31274812e+05, 6.35372344e+05,\n",
      "       6.39469875e+05, 6.43567406e+05, 6.47664938e+05, 6.51762469e+05,\n",
      "       6.55860000e+05, 6.59957531e+05, 6.64055062e+05, 6.68152594e+05,\n",
      "       6.72250125e+05, 6.76347656e+05, 6.80445188e+05, 6.84542719e+05,\n",
      "       6.88640250e+05, 6.92737781e+05, 6.96835312e+05, 7.00932844e+05,\n",
      "       7.05030375e+05, 7.09127906e+05, 7.13225438e+05, 7.17322969e+05,\n",
      "       7.21420500e+05, 7.25518031e+05, 7.29615562e+05, 7.33713094e+05,\n",
      "       7.37810625e+05, 7.41908156e+05, 7.46005688e+05, 7.50103219e+05,\n",
      "       7.54200750e+05, 7.58298281e+05, 7.62395812e+05, 7.66493344e+05,\n",
      "       7.70590875e+05, 7.74688406e+05, 7.78785938e+05, 7.82883469e+05,\n",
      "       7.86981000e+05, 7.91078531e+05, 7.95176062e+05, 7.99273594e+05,\n",
      "       8.03371125e+05, 8.07468656e+05, 8.11566188e+05, 8.15663719e+05,\n",
      "       8.19761250e+05, 8.23858781e+05, 8.27956312e+05, 8.32053844e+05,\n",
      "       8.36151375e+05, 8.40248906e+05, 8.44346438e+05, 8.48443969e+05,\n",
      "       8.52541500e+05, 8.56639031e+05, 8.60736562e+05, 8.64834094e+05,\n",
      "       8.68931625e+05, 8.73029156e+05, 8.77126688e+05, 8.81224219e+05,\n",
      "       8.85321750e+05, 8.89419281e+05, 8.93516812e+05, 8.97614344e+05,\n",
      "       9.01711875e+05, 9.05809406e+05, 9.09906938e+05, 9.14004469e+05,\n",
      "       9.18102000e+05, 9.22199531e+05, 9.26297062e+05, 9.30394594e+05,\n",
      "       9.34492125e+05, 9.38589656e+05, 9.42687188e+05, 9.46784719e+05,\n",
      "       9.50882250e+05, 9.54979781e+05, 9.59077312e+05, 9.63174844e+05,\n",
      "       9.67272375e+05, 9.71369906e+05, 9.75467438e+05, 9.79564969e+05,\n",
      "       9.83662500e+05, 9.87760031e+05, 9.91857562e+05, 9.95955094e+05,\n",
      "       1.00005262e+06, 1.00415016e+06, 1.00824769e+06, 1.01234522e+06,\n",
      "       1.01644275e+06, 1.02054028e+06, 1.02463781e+06, 1.02873534e+06,\n",
      "       1.03283288e+06, 1.03693041e+06, 1.04102794e+06, 1.04512547e+06,\n",
      "       1.04922300e+06, 1.05332053e+06, 1.05741806e+06, 1.06151559e+06,\n",
      "       1.06561312e+06, 1.06971066e+06, 1.07380819e+06, 1.07790572e+06,\n",
      "       1.08200325e+06, 1.08610078e+06, 1.09019831e+06, 1.09429584e+06,\n",
      "       1.09839338e+06, 1.10249091e+06, 1.10658844e+06, 1.11068597e+06,\n",
      "       1.11478350e+06, 1.11888103e+06, 1.12297856e+06, 1.12707609e+06,\n",
      "       1.13117362e+06, 1.13527116e+06, 1.13936869e+06, 1.14346622e+06,\n",
      "       1.14756375e+06, 1.15166128e+06, 1.15575881e+06, 1.15985634e+06,\n",
      "       1.16395388e+06, 1.16805141e+06, 1.17214894e+06, 1.17624647e+06,\n",
      "       1.18034400e+06, 1.18444153e+06, 1.18853906e+06, 1.19263659e+06,\n",
      "       1.19673412e+06, 1.20083166e+06, 1.20492919e+06, 1.20902672e+06,\n",
      "       1.21312425e+06, 1.21722178e+06, 1.22131931e+06, 1.22541684e+06,\n",
      "       1.22951438e+06, 1.23361191e+06, 1.23770944e+06, 1.24180697e+06,\n",
      "       1.24590450e+06, 1.25000203e+06, 1.25409956e+06, 1.25819709e+06,\n",
      "       1.26229462e+06, 1.26639216e+06, 1.27048969e+06, 1.27458722e+06,\n",
      "       1.27868475e+06, 1.28278228e+06, 1.28687981e+06, 1.29097734e+06,\n",
      "       1.29507488e+06, 1.29917241e+06, 1.30326994e+06, 1.30736747e+06,\n",
      "       1.31146500e+06])\n"
     ]
    }
   ],
   "metadata": {}
  },
  {
   "cell_type": "code",
   "execution_count": 6,
   "source": [
    "len(hist)\n",
    "print(np.sum(hist[:2]))"
   ],
   "outputs": [
    {
     "output_type": "stream",
     "name": "stdout",
     "text": [
      "16767\n"
     ]
    }
   ],
   "metadata": {}
  },
  {
   "cell_type": "code",
   "execution_count": 4,
   "source": [
    "# a = np.array([22,87,5,43,56,73,55,54,11,20,51,5,79,31,27]) \n",
    "# plt.hist(a) \n",
    "plt.hist(metric, bins=320) \n",
    "plt.title(\"histogram\") \n",
    "plt.xlabel('metric')\n",
    "plt.ylabel('frequency')\n",
    "# plt.show()\n",
    "plt.savefig(\"histogram.png\",dpi=300)"
   ],
   "outputs": [
    {
     "output_type": "display_data",
     "data": {
      "text/plain": [
       "<Figure size 432x288 with 1 Axes>"
      ],
      "image/png": "[encoded data removed]"
     },
     "metadata": {
      "needs_background": "light"
     }
    }
   ],
   "metadata": {}
  },
  {
   "cell_type": "code",
   "execution_count": null,
   "source": [],
   "outputs": [],
   "metadata": {}
  }
 ],
 "metadata": {
  "orig_nbformat": 4,
  "language_info": {
   "name": "python",
   "version": "3.7.10",
   "mimetype": "text/x-python",
   "codemirror_mode": {
    "name": "ipython",
    "version": 3
   },
   "pygments_lexer": "ipython3",
   "nbconvert_exporter": "python",
   "file_extension": ".py"
  },
  "kernelspec": {
   "name": "python3",
   "display_name": "Python 3.7.10 64-bit ('edsr': conda)"
  },
  "interpreter": {
   "hash": "9e6921e5089f242ed2896104f58ed00da571ce6153d4b78755b3647fde4c8530"
  }
 },
 "nbformat": 4,
 "nbformat_minor": 2
}